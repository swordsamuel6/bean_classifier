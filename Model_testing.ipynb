{
 "cells": [
  {
   "cell_type": "code",
   "execution_count": null,
   "id": "44440c12-203d-4991-b52e-8eb1acc3073f",
   "metadata": {},
   "outputs": [],
   "source": [
    "import pandas as pd\n",
    "import numpy as np\n",
    "from sklearn.model_selection import StratifiedShuffleSplit\n",
    "from sklearn.preprocessing import LabelEncoder\n",
    "from sklearn.preprocessing import MinMaxScaler\n",
    "from sklearn.model_selection import cross_val_score\n",
    "from sklearn.model_selection import cross_val_predict\n",
    "from sklearn.ensemble import RandomForestClassifier\n",
    "from sklearn.ensemble import HistGradientBoostingClassifier\n",
    "from sklearn.metrics import confusion_matrix\n",
    "from sklearn.metrics import classification_report\n",
    "import matplotlib.pyplot as plt\n",
    "from sklearn.model_selection import train_test_split\n",
    "from sklearn.ensemble import ExtraTreesClassifier"
   ]
  },
  {
   "cell_type": "markdown",
   "id": "944fa6b3",
   "metadata": {},
   "source": [
    "## Initial examination of data"
   ]
  },
  {
   "cell_type": "code",
   "execution_count": 2,
   "id": "3ae52db6-a657-4d09-a5e0-c91bd328bbf0",
   "metadata": {},
   "outputs": [
    {
     "data": {
      "text/html": [
       "<div>\n",
       "<style scoped>\n",
       "    .dataframe tbody tr th:only-of-type {\n",
       "        vertical-align: middle;\n",
       "    }\n",
       "\n",
       "    .dataframe tbody tr th {\n",
       "        vertical-align: top;\n",
       "    }\n",
       "\n",
       "    .dataframe thead th {\n",
       "        text-align: right;\n",
       "    }\n",
       "</style>\n",
       "<table border=\"1\" class=\"dataframe\">\n",
       "  <thead>\n",
       "    <tr style=\"text-align: right;\">\n",
       "      <th></th>\n",
       "      <th>Area</th>\n",
       "      <th>Perimeter</th>\n",
       "      <th>MajorAxisLength</th>\n",
       "      <th>MinorAxisLength</th>\n",
       "      <th>AspectRation</th>\n",
       "      <th>Eccentricity</th>\n",
       "      <th>ConvexArea</th>\n",
       "      <th>EquivDiameter</th>\n",
       "      <th>Extent</th>\n",
       "      <th>Solidity</th>\n",
       "      <th>roundness</th>\n",
       "      <th>Compactness</th>\n",
       "      <th>ShapeFactor1</th>\n",
       "      <th>ShapeFactor2</th>\n",
       "      <th>ShapeFactor3</th>\n",
       "      <th>ShapeFactor4</th>\n",
       "      <th>Class</th>\n",
       "    </tr>\n",
       "  </thead>\n",
       "  <tbody>\n",
       "    <tr>\n",
       "      <th>0</th>\n",
       "      <td>28395</td>\n",
       "      <td>610.291</td>\n",
       "      <td>208.178117</td>\n",
       "      <td>173.888747</td>\n",
       "      <td>1.197191</td>\n",
       "      <td>0.549812</td>\n",
       "      <td>28715</td>\n",
       "      <td>190.141097</td>\n",
       "      <td>0.763923</td>\n",
       "      <td>0.988856</td>\n",
       "      <td>0.958027</td>\n",
       "      <td>0.913358</td>\n",
       "      <td>0.007332</td>\n",
       "      <td>0.003147</td>\n",
       "      <td>0.834222</td>\n",
       "      <td>0.998724</td>\n",
       "      <td>SEKER</td>\n",
       "    </tr>\n",
       "    <tr>\n",
       "      <th>1</th>\n",
       "      <td>28734</td>\n",
       "      <td>638.018</td>\n",
       "      <td>200.524796</td>\n",
       "      <td>182.734419</td>\n",
       "      <td>1.097356</td>\n",
       "      <td>0.411785</td>\n",
       "      <td>29172</td>\n",
       "      <td>191.272751</td>\n",
       "      <td>0.783968</td>\n",
       "      <td>0.984986</td>\n",
       "      <td>0.887034</td>\n",
       "      <td>0.953861</td>\n",
       "      <td>0.006979</td>\n",
       "      <td>0.003564</td>\n",
       "      <td>0.909851</td>\n",
       "      <td>0.998430</td>\n",
       "      <td>SEKER</td>\n",
       "    </tr>\n",
       "    <tr>\n",
       "      <th>2</th>\n",
       "      <td>29380</td>\n",
       "      <td>624.110</td>\n",
       "      <td>212.826130</td>\n",
       "      <td>175.931143</td>\n",
       "      <td>1.209713</td>\n",
       "      <td>0.562727</td>\n",
       "      <td>29690</td>\n",
       "      <td>193.410904</td>\n",
       "      <td>0.778113</td>\n",
       "      <td>0.989559</td>\n",
       "      <td>0.947849</td>\n",
       "      <td>0.908774</td>\n",
       "      <td>0.007244</td>\n",
       "      <td>0.003048</td>\n",
       "      <td>0.825871</td>\n",
       "      <td>0.999066</td>\n",
       "      <td>SEKER</td>\n",
       "    </tr>\n",
       "    <tr>\n",
       "      <th>3</th>\n",
       "      <td>30008</td>\n",
       "      <td>645.884</td>\n",
       "      <td>210.557999</td>\n",
       "      <td>182.516516</td>\n",
       "      <td>1.153638</td>\n",
       "      <td>0.498616</td>\n",
       "      <td>30724</td>\n",
       "      <td>195.467062</td>\n",
       "      <td>0.782681</td>\n",
       "      <td>0.976696</td>\n",
       "      <td>0.903936</td>\n",
       "      <td>0.928329</td>\n",
       "      <td>0.007017</td>\n",
       "      <td>0.003215</td>\n",
       "      <td>0.861794</td>\n",
       "      <td>0.994199</td>\n",
       "      <td>SEKER</td>\n",
       "    </tr>\n",
       "    <tr>\n",
       "      <th>4</th>\n",
       "      <td>30140</td>\n",
       "      <td>620.134</td>\n",
       "      <td>201.847882</td>\n",
       "      <td>190.279279</td>\n",
       "      <td>1.060798</td>\n",
       "      <td>0.333680</td>\n",
       "      <td>30417</td>\n",
       "      <td>195.896503</td>\n",
       "      <td>0.773098</td>\n",
       "      <td>0.990893</td>\n",
       "      <td>0.984877</td>\n",
       "      <td>0.970516</td>\n",
       "      <td>0.006697</td>\n",
       "      <td>0.003665</td>\n",
       "      <td>0.941900</td>\n",
       "      <td>0.999166</td>\n",
       "      <td>SEKER</td>\n",
       "    </tr>\n",
       "  </tbody>\n",
       "</table>\n",
       "</div>"
      ],
      "text/plain": [
       "    Area  Perimeter  MajorAxisLength  MinorAxisLength  AspectRation  \\\n",
       "0  28395    610.291       208.178117       173.888747      1.197191   \n",
       "1  28734    638.018       200.524796       182.734419      1.097356   \n",
       "2  29380    624.110       212.826130       175.931143      1.209713   \n",
       "3  30008    645.884       210.557999       182.516516      1.153638   \n",
       "4  30140    620.134       201.847882       190.279279      1.060798   \n",
       "\n",
       "   Eccentricity  ConvexArea  EquivDiameter    Extent  Solidity  roundness  \\\n",
       "0      0.549812       28715     190.141097  0.763923  0.988856   0.958027   \n",
       "1      0.411785       29172     191.272751  0.783968  0.984986   0.887034   \n",
       "2      0.562727       29690     193.410904  0.778113  0.989559   0.947849   \n",
       "3      0.498616       30724     195.467062  0.782681  0.976696   0.903936   \n",
       "4      0.333680       30417     195.896503  0.773098  0.990893   0.984877   \n",
       "\n",
       "   Compactness  ShapeFactor1  ShapeFactor2  ShapeFactor3  ShapeFactor4  Class  \n",
       "0     0.913358      0.007332      0.003147      0.834222      0.998724  SEKER  \n",
       "1     0.953861      0.006979      0.003564      0.909851      0.998430  SEKER  \n",
       "2     0.908774      0.007244      0.003048      0.825871      0.999066  SEKER  \n",
       "3     0.928329      0.007017      0.003215      0.861794      0.994199  SEKER  \n",
       "4     0.970516      0.006697      0.003665      0.941900      0.999166  SEKER  "
      ]
     },
     "execution_count": 2,
     "metadata": {},
     "output_type": "execute_result"
    }
   ],
   "source": [
    "data = pd.read_csv('Dry_Bean_Dataset.csv')\n",
    "data.head()"
   ]
  },
  {
   "cell_type": "code",
   "execution_count": 3,
   "id": "30ad6bfc-93b0-4e8b-af5e-9c965c7564ab",
   "metadata": {},
   "outputs": [
    {
     "name": "stdout",
     "output_type": "stream",
     "text": [
      "<class 'pandas.core.frame.DataFrame'>\n",
      "RangeIndex: 13611 entries, 0 to 13610\n",
      "Data columns (total 17 columns):\n",
      " #   Column           Non-Null Count  Dtype  \n",
      "---  ------           --------------  -----  \n",
      " 0   Area             13611 non-null  int64  \n",
      " 1   Perimeter        13611 non-null  float64\n",
      " 2   MajorAxisLength  13611 non-null  float64\n",
      " 3   MinorAxisLength  13611 non-null  float64\n",
      " 4   AspectRation     13611 non-null  float64\n",
      " 5   Eccentricity     13611 non-null  float64\n",
      " 6   ConvexArea       13611 non-null  int64  \n",
      " 7   EquivDiameter    13611 non-null  float64\n",
      " 8   Extent           13611 non-null  float64\n",
      " 9   Solidity         13611 non-null  float64\n",
      " 10  roundness        13611 non-null  float64\n",
      " 11  Compactness      13611 non-null  float64\n",
      " 12  ShapeFactor1     13611 non-null  float64\n",
      " 13  ShapeFactor2     13611 non-null  float64\n",
      " 14  ShapeFactor3     13611 non-null  float64\n",
      " 15  ShapeFactor4     13611 non-null  float64\n",
      " 16  Class            13611 non-null  object \n",
      "dtypes: float64(14), int64(2), object(1)\n",
      "memory usage: 1.8+ MB\n"
     ]
    }
   ],
   "source": [
    "data.info()"
   ]
  },
  {
   "cell_type": "code",
   "execution_count": 4,
   "id": "7b3b750d-2a93-444a-a950-d45f28ea3f4c",
   "metadata": {},
   "outputs": [
    {
     "data": {
      "text/plain": [
       "Class\n",
       "DERMASON    3546\n",
       "SIRA        2636\n",
       "SEKER       2027\n",
       "HOROZ       1928\n",
       "CALI        1630\n",
       "BARBUNYA    1322\n",
       "BOMBAY       522\n",
       "Name: count, dtype: int64"
      ]
     },
     "execution_count": 4,
     "metadata": {},
     "output_type": "execute_result"
    }
   ],
   "source": [
    "data[\"Class\"].value_counts()"
   ]
  },
  {
   "cell_type": "markdown",
   "id": "944fa6b3",
   "metadata": {},
   "source": [
    "## Preprocessing for initial model testing"
   ]
  },
  {
   "cell_type": "code",
   "execution_count": 5,
   "id": "af93704e-437a-4a1e-a4b0-cec2e2902bc3",
   "metadata": {},
   "outputs": [],
   "source": [
    "# Stratified split into train and test set\n",
    "split = StratifiedShuffleSplit(n_splits=1, test_size=0.2, random_state=42)\n",
    "for train_index, test_index in split.split(data, data[\"Class\"]):\n",
    " strat_train_set = data.loc[train_index]\n",
    " strat_test_set = data.loc[test_index]\n",
    "beans = strat_train_set.copy()"
   ]
  },
  {
   "cell_type": "code",
   "execution_count": 6,
   "id": "217bf348-50fc-4dd2-9fea-dd4a6e3d1da6",
   "metadata": {},
   "outputs": [
    {
     "data": {
      "text/plain": [
       "1453    5\n",
       "6470    4\n",
       "4639    2\n",
       "4655    2\n",
       "1936    5\n",
       "       ..\n",
       "2172    0\n",
       "5291    2\n",
       "2477    0\n",
       "6431    4\n",
       "3600    1\n",
       "Name: Class, Length: 10888, dtype: int64"
      ]
     },
     "execution_count": 6,
     "metadata": {},
     "output_type": "execute_result"
    }
   ],
   "source": [
    "# Encoding labels\n",
    "le = LabelEncoder()\n",
    "beans[\"Class\"] = le.fit_transform(beans[\"Class\"])\n",
    "beans[\"Class\"]"
   ]
  },
  {
   "cell_type": "code",
   "execution_count": 7,
   "id": "0a71d76a-1a02-472b-9acc-3ee3b4096885",
   "metadata": {},
   "outputs": [
    {
     "data": {
      "text/plain": [
       "Class              1.000000\n",
       "ShapeFactor1       0.389957\n",
       "roundness          0.385472\n",
       "ShapeFactor2       0.334449\n",
       "Solidity           0.323563\n",
       "ShapeFactor3       0.168400\n",
       "ShapeFactor4       0.163410\n",
       "Compactness        0.156856\n",
       "Extent            -0.031167\n",
       "AspectRation      -0.116804\n",
       "Eccentricity      -0.201311\n",
       "MajorAxisLength   -0.454153\n",
       "MinorAxisLength   -0.456568\n",
       "Area              -0.474206\n",
       "ConvexArea        -0.476492\n",
       "EquivDiameter     -0.479618\n",
       "Perimeter         -0.506347\n",
       "Name: Class, dtype: float64"
      ]
     },
     "execution_count": 7,
     "metadata": {},
     "output_type": "execute_result"
    }
   ],
   "source": [
    "corr_matrix = beans.corr()\n",
    "corr_matrix[\"Class\"].sort_values(ascending=False)"
   ]
  },
  {
   "cell_type": "code",
   "execution_count": 8,
   "id": "3894b9e4-eb3b-4b4f-9ada-6deaab3dc129",
   "metadata": {},
   "outputs": [],
   "source": [
    "labels = beans[['Class']]\n",
    "features_unscaled = beans.drop('Class', axis=1)"
   ]
  },
  {
   "cell_type": "code",
   "execution_count": 9,
   "id": "ab8063fb-ed8f-4eab-93e5-70b9ec437e53",
   "metadata": {},
   "outputs": [
    {
     "data": {
      "text/html": [
       "<div>\n",
       "<style scoped>\n",
       "    .dataframe tbody tr th:only-of-type {\n",
       "        vertical-align: middle;\n",
       "    }\n",
       "\n",
       "    .dataframe tbody tr th {\n",
       "        vertical-align: top;\n",
       "    }\n",
       "\n",
       "    .dataframe thead th {\n",
       "        text-align: right;\n",
       "    }\n",
       "</style>\n",
       "<table border=\"1\" class=\"dataframe\">\n",
       "  <thead>\n",
       "    <tr style=\"text-align: right;\">\n",
       "      <th></th>\n",
       "      <th>Area</th>\n",
       "      <th>Perimeter</th>\n",
       "      <th>MajorAxisLength</th>\n",
       "      <th>MinorAxisLength</th>\n",
       "      <th>AspectRation</th>\n",
       "      <th>Eccentricity</th>\n",
       "      <th>ConvexArea</th>\n",
       "      <th>EquivDiameter</th>\n",
       "      <th>Extent</th>\n",
       "      <th>Solidity</th>\n",
       "      <th>roundness</th>\n",
       "      <th>Compactness</th>\n",
       "      <th>ShapeFactor1</th>\n",
       "      <th>ShapeFactor2</th>\n",
       "      <th>ShapeFactor3</th>\n",
       "      <th>ShapeFactor4</th>\n",
       "    </tr>\n",
       "  </thead>\n",
       "  <tbody>\n",
       "    <tr>\n",
       "      <th>count</th>\n",
       "      <td>10888.000000</td>\n",
       "      <td>10888.000000</td>\n",
       "      <td>10888.000000</td>\n",
       "      <td>10888.000000</td>\n",
       "      <td>10888.000000</td>\n",
       "      <td>10888.000000</td>\n",
       "      <td>10888.000000</td>\n",
       "      <td>10888.000000</td>\n",
       "      <td>10888.000000</td>\n",
       "      <td>10888.000000</td>\n",
       "      <td>10888.000000</td>\n",
       "      <td>10888.000000</td>\n",
       "      <td>10888.000000</td>\n",
       "      <td>10888.000000</td>\n",
       "      <td>10888.000000</td>\n",
       "      <td>10888.000000</td>\n",
       "    </tr>\n",
       "    <tr>\n",
       "      <th>mean</th>\n",
       "      <td>-0.714057</td>\n",
       "      <td>-0.518252</td>\n",
       "      <td>-0.497223</td>\n",
       "      <td>-0.527911</td>\n",
       "      <td>-0.205519</td>\n",
       "      <td>0.536356</td>\n",
       "      <td>-0.713073</td>\n",
       "      <td>-0.542572</td>\n",
       "      <td>0.248863</td>\n",
       "      <td>0.799912</td>\n",
       "      <td>0.531526</td>\n",
       "      <td>-0.081118</td>\n",
       "      <td>-0.012898</td>\n",
       "      <td>-0.257871</td>\n",
       "      <td>-0.173429</td>\n",
       "      <td>0.820094</td>\n",
       "    </tr>\n",
       "    <tr>\n",
       "      <th>std</th>\n",
       "      <td>0.256911</td>\n",
       "      <td>0.312252</td>\n",
       "      <td>0.315436</td>\n",
       "      <td>0.266335</td>\n",
       "      <td>0.351117</td>\n",
       "      <td>0.265397</td>\n",
       "      <td>0.258114</td>\n",
       "      <td>0.294868</td>\n",
       "      <td>0.315524</td>\n",
       "      <td>0.124420</td>\n",
       "      <td>0.237653</td>\n",
       "      <td>0.355854</td>\n",
       "      <td>0.293833</td>\n",
       "      <td>0.384990</td>\n",
       "      <td>0.350587</td>\n",
       "      <td>0.168462</td>\n",
       "    </tr>\n",
       "    <tr>\n",
       "      <th>min</th>\n",
       "      <td>-1.000000</td>\n",
       "      <td>-1.000000</td>\n",
       "      <td>-1.000000</td>\n",
       "      <td>-1.000000</td>\n",
       "      <td>-1.000000</td>\n",
       "      <td>-1.000000</td>\n",
       "      <td>-1.000000</td>\n",
       "      <td>-1.000000</td>\n",
       "      <td>-1.000000</td>\n",
       "      <td>-1.000000</td>\n",
       "      <td>-1.000000</td>\n",
       "      <td>-1.000000</td>\n",
       "      <td>-1.000000</td>\n",
       "      <td>-1.000000</td>\n",
       "      <td>-1.000000</td>\n",
       "      <td>-1.000000</td>\n",
       "    </tr>\n",
       "    <tr>\n",
       "      <th>25%</th>\n",
       "      <td>-0.860494</td>\n",
       "      <td>-0.739201</td>\n",
       "      <td>-0.743314</td>\n",
       "      <td>-0.684897</td>\n",
       "      <td>-0.419196</td>\n",
       "      <td>0.436334</td>\n",
       "      <td>-0.860899</td>\n",
       "      <td>-0.731719</td>\n",
       "      <td>0.048571</td>\n",
       "      <td>0.761069</td>\n",
       "      <td>0.366640</td>\n",
       "      <td>-0.296019</td>\n",
       "      <td>-0.185188</td>\n",
       "      <td>-0.620526</td>\n",
       "      <td>-0.393183</td>\n",
       "      <td>0.768229</td>\n",
       "    </tr>\n",
       "    <tr>\n",
       "      <th>50%</th>\n",
       "      <td>-0.787328</td>\n",
       "      <td>-0.605714</td>\n",
       "      <td>-0.581668</td>\n",
       "      <td>-0.585875</td>\n",
       "      <td>-0.251516</td>\n",
       "      <td>0.575200</td>\n",
       "      <td>-0.787112</td>\n",
       "      <td>-0.614976</td>\n",
       "      <td>0.312563</td>\n",
       "      <td>0.830157</td>\n",
       "      <td>0.570610</td>\n",
       "      <td>-0.072839</td>\n",
       "      <td>0.007899</td>\n",
       "      <td>-0.274078</td>\n",
       "      <td>-0.178771</td>\n",
       "      <td>0.870772</td>\n",
       "    </tr>\n",
       "    <tr>\n",
       "      <th>75%</th>\n",
       "      <td>-0.640879</td>\n",
       "      <td>-0.340435</td>\n",
       "      <td>-0.290889</td>\n",
       "      <td>-0.441732</td>\n",
       "      <td>-0.030709</td>\n",
       "      <td>0.707626</td>\n",
       "      <td>-0.638115</td>\n",
       "      <td>-0.410379</td>\n",
       "      <td>0.487362</td>\n",
       "      <td>0.876272</td>\n",
       "      <td>0.705156</td>\n",
       "      <td>0.115371</td>\n",
       "      <td>0.172142</td>\n",
       "      <td>0.035489</td>\n",
       "      <td>0.010292</td>\n",
       "      <td>0.928503</td>\n",
       "    </tr>\n",
       "    <tr>\n",
       "      <th>max</th>\n",
       "      <td>1.000000</td>\n",
       "      <td>1.000000</td>\n",
       "      <td>1.000000</td>\n",
       "      <td>1.000000</td>\n",
       "      <td>1.000000</td>\n",
       "      <td>1.000000</td>\n",
       "      <td>1.000000</td>\n",
       "      <td>1.000000</td>\n",
       "      <td>1.000000</td>\n",
       "      <td>1.000000</td>\n",
       "      <td>1.000000</td>\n",
       "      <td>1.000000</td>\n",
       "      <td>1.000000</td>\n",
       "      <td>1.000000</td>\n",
       "      <td>1.000000</td>\n",
       "      <td>1.000000</td>\n",
       "    </tr>\n",
       "  </tbody>\n",
       "</table>\n",
       "</div>"
      ],
      "text/plain": [
       "               Area     Perimeter  MajorAxisLength  MinorAxisLength  \\\n",
       "count  10888.000000  10888.000000     10888.000000     10888.000000   \n",
       "mean      -0.714057     -0.518252        -0.497223        -0.527911   \n",
       "std        0.256911      0.312252         0.315436         0.266335   \n",
       "min       -1.000000     -1.000000        -1.000000        -1.000000   \n",
       "25%       -0.860494     -0.739201        -0.743314        -0.684897   \n",
       "50%       -0.787328     -0.605714        -0.581668        -0.585875   \n",
       "75%       -0.640879     -0.340435        -0.290889        -0.441732   \n",
       "max        1.000000      1.000000         1.000000         1.000000   \n",
       "\n",
       "       AspectRation  Eccentricity    ConvexArea  EquivDiameter        Extent  \\\n",
       "count  10888.000000  10888.000000  10888.000000   10888.000000  10888.000000   \n",
       "mean      -0.205519      0.536356     -0.713073      -0.542572      0.248863   \n",
       "std        0.351117      0.265397      0.258114       0.294868      0.315524   \n",
       "min       -1.000000     -1.000000     -1.000000      -1.000000     -1.000000   \n",
       "25%       -0.419196      0.436334     -0.860899      -0.731719      0.048571   \n",
       "50%       -0.251516      0.575200     -0.787112      -0.614976      0.312563   \n",
       "75%       -0.030709      0.707626     -0.638115      -0.410379      0.487362   \n",
       "max        1.000000      1.000000      1.000000       1.000000      1.000000   \n",
       "\n",
       "           Solidity     roundness   Compactness  ShapeFactor1  ShapeFactor2  \\\n",
       "count  10888.000000  10888.000000  10888.000000  10888.000000  10888.000000   \n",
       "mean       0.799912      0.531526     -0.081118     -0.012898     -0.257871   \n",
       "std        0.124420      0.237653      0.355854      0.293833      0.384990   \n",
       "min       -1.000000     -1.000000     -1.000000     -1.000000     -1.000000   \n",
       "25%        0.761069      0.366640     -0.296019     -0.185188     -0.620526   \n",
       "50%        0.830157      0.570610     -0.072839      0.007899     -0.274078   \n",
       "75%        0.876272      0.705156      0.115371      0.172142      0.035489   \n",
       "max        1.000000      1.000000      1.000000      1.000000      1.000000   \n",
       "\n",
       "       ShapeFactor3  ShapeFactor4  \n",
       "count  10888.000000  10888.000000  \n",
       "mean      -0.173429      0.820094  \n",
       "std        0.350587      0.168462  \n",
       "min       -1.000000     -1.000000  \n",
       "25%       -0.393183      0.768229  \n",
       "50%       -0.178771      0.870772  \n",
       "75%        0.010292      0.928503  \n",
       "max        1.000000      1.000000  "
      ]
     },
     "execution_count": 9,
     "metadata": {},
     "output_type": "execute_result"
    }
   ],
   "source": [
    "# Scaling features\n",
    "min_max = MinMaxScaler(feature_range=(-1, 1))\n",
    "features_scaled = min_max.fit_transform(features_unscaled)\n",
    "features = pd.DataFrame(features_scaled, index=features_unscaled.index, columns=features_unscaled.columns)\n",
    "features.describe()"
   ]
  },
  {
   "cell_type": "markdown",
   "id": "944fa6b3",
   "metadata": {},
   "source": [
    "## Testing models"
   ]
  },
  {
   "cell_type": "code",
   "execution_count": 10,
   "id": "a01176cb-17d2-42b4-ad7f-28b77b282a0a",
   "metadata": {},
   "outputs": [
    {
     "data": {
      "text/plain": [
       "array([5, 4, 2, ..., 0, 4, 1])"
      ]
     },
     "execution_count": 10,
     "metadata": {},
     "output_type": "execute_result"
    }
   ],
   "source": [
    "labels_arr = labels.to_numpy().ravel()\n",
    "features_arr = features.to_numpy()\n",
    "\n",
    "forest_clf = RandomForestClassifier()\n",
    "probas_forest = cross_val_predict(forest_clf, features_arr, labels_arr, cv=3)\n",
    "probas_forest"
   ]
  },
  {
   "cell_type": "code",
   "execution_count": 11,
   "id": "95980e81-22d9-4caa-994d-64e6db70f383",
   "metadata": {},
   "outputs": [],
   "source": [
    "conf_mx = confusion_matrix(labels_arr, probas_forest)"
   ]
  },
  {
   "cell_type": "code",
   "execution_count": 12,
   "id": "64d9f3c3-3a6e-4216-a6a4-975496d6b4b9",
   "metadata": {},
   "outputs": [
    {
     "data": {
      "image/png": "[encoded data removed]",
      "text/plain": [
       "<Figure size 480x480 with 1 Axes>"
      ]
     },
     "metadata": {},
     "output_type": "display_data"
    }
   ],
   "source": [
    "row_sums = conf_mx.sum(axis=1, keepdims=True)\n",
    "norm_conf_mx = conf_mx / row_sums\n",
    "np.fill_diagonal(norm_conf_mx, 0)\n",
    "plt.matshow(norm_conf_mx, cmap=plt.cm.gray)\n",
    "plt.show()"
   ]
  },
  {
   "cell_type": "code",
   "execution_count": 13,
   "id": "bb4146ba-c034-4334-9a88-14c91b4ba18d",
   "metadata": {},
   "outputs": [
    {
     "data": {
      "text/plain": [
       "array([0.92745638, 0.91965106, 0.92378329, 0.92466697, 0.93109784])"
      ]
     },
     "execution_count": 13,
     "metadata": {},
     "output_type": "execute_result"
    }
   ],
   "source": [
    "forest_clf.fit(features_arr, labels_arr)\n",
    "cross_val_score(forest_clf, features_arr, labels_arr)"
   ]
  },
  {
   "cell_type": "code",
   "execution_count": 14,
   "id": "3b746037-7f8c-4304-bf80-39cd718be895",
   "metadata": {},
   "outputs": [
    {
     "data": {
      "text/plain": [
       "array([3, 1, 6, ..., 4, 2, 3])"
      ]
     },
     "execution_count": 14,
     "metadata": {},
     "output_type": "execute_result"
    }
   ],
   "source": [
    "test_set = strat_test_set.drop('Class', axis=1)\n",
    "test_set_scaled = min_max.fit_transform(test_set)\n",
    "prediction = forest_clf.predict(test_set_scaled)\n",
    "prediction"
   ]
  },
  {
   "cell_type": "code",
   "execution_count": 15,
   "id": "bffa4663-847f-4041-8491-ced8f3bdd9be",
   "metadata": {},
   "outputs": [
    {
     "data": {
      "text/plain": [
       "90.74550128534705"
      ]
     },
     "execution_count": 15,
     "metadata": {},
     "output_type": "execute_result"
    }
   ],
   "source": [
    "correct_labels = le.fit_transform(strat_test_set['Class'])\n",
    "accuracy = np.mean(prediction == correct_labels) * 100\n",
    "accuracy"
   ]
  },
  {
   "cell_type": "code",
   "execution_count": 16,
   "id": "05de2e1e-f23b-447c-a2d8-f232e047381c",
   "metadata": {},
   "outputs": [],
   "source": [
    "GBM_clf = HistGradientBoostingClassifier().fit(features_arr, labels_arr)"
   ]
  },
  {
   "cell_type": "code",
   "execution_count": 17,
   "id": "5a2a62bf-ae2d-466e-8f2a-91a0c81dd65b",
   "metadata": {},
   "outputs": [
    {
     "data": {
      "text/plain": [
       "array([0.94077135, 0.92056933, 0.92699725, 0.92237023, 0.93569132])"
      ]
     },
     "execution_count": 17,
     "metadata": {},
     "output_type": "execute_result"
    }
   ],
   "source": [
    "cross_val_score(GBM_clf, features_arr, labels_arr)"
   ]
  },
  {
   "cell_type": "code",
   "execution_count": 18,
   "id": "2cb7a3e0-ec71-41e7-9f00-17a87634f164",
   "metadata": {},
   "outputs": [],
   "source": [
    "probas_GBM = cross_val_predict(GBM_clf, features_arr, labels_arr, cv=3)"
   ]
  },
  {
   "cell_type": "code",
   "execution_count": 19,
   "id": "73609aca-cdb9-49dc-84eb-d1f138d45a84",
   "metadata": {},
   "outputs": [
    {
     "data": {
      "image/png": "[encoded data removed]",
      "text/plain": [
       "<Figure size 480x480 with 1 Axes>"
      ]
     },
     "metadata": {},
     "output_type": "display_data"
    }
   ],
   "source": [
    "conf_mx_GBM = confusion_matrix(labels_arr, probas_GBM)\n",
    "row_sums_GBM = conf_mx_GBM.sum(axis=1, keepdims=True)\n",
    "norm_conf_mx_GBM = conf_mx_GBM / row_sums_GBM\n",
    "np.fill_diagonal(norm_conf_mx_GBM, 0)\n",
    "plt.matshow(norm_conf_mx_GBM, cmap=plt.cm.gray)\n",
    "plt.show()"
   ]
  },
  {
   "cell_type": "code",
   "execution_count": 31,
   "id": "988692af-008a-4df0-9833-883cc07b7300",
   "metadata": {},
   "outputs": [],
   "source": [
    "prediction_GBM = GBM_clf.predict(test_set_scaled)"
   ]
  },
  {
   "cell_type": "code",
   "execution_count": 30,
   "id": "14911e08-1bf7-4ecc-aa63-1d4e8a9fb747",
   "metadata": {},
   "outputs": [
    {
     "name": "stdout",
     "output_type": "stream",
     "text": [
      "              precision    recall  f1-score   support\n",
      "\n",
      "           0       0.87      0.91      0.89       265\n",
      "           1       1.00      1.00      1.00       104\n",
      "           2       0.96      0.87      0.91       326\n",
      "           3       0.86      0.96      0.91       709\n",
      "           4       0.94      0.97      0.95       386\n",
      "           5       0.95      0.94      0.95       406\n",
      "           6       0.89      0.78      0.83       527\n",
      "\n",
      "    accuracy                           0.91      2723\n",
      "   macro avg       0.92      0.92      0.92      2723\n",
      "weighted avg       0.91      0.91      0.91      2723\n",
      "\n"
     ]
    }
   ],
   "source": [
    "print(classification_report(correct_labels, prediction))"
   ]
  },
  {
   "cell_type": "code",
   "execution_count": 32,
   "id": "322e5090-d0f9-4d35-bebe-df527da2d67f",
   "metadata": {},
   "outputs": [
    {
     "name": "stdout",
     "output_type": "stream",
     "text": [
      "              precision    recall  f1-score   support\n",
      "\n",
      "           0       0.91      0.89      0.90       265\n",
      "           1       1.00      1.00      1.00       104\n",
      "           2       0.95      0.86      0.90       326\n",
      "           3       0.86      0.95      0.90       709\n",
      "           4       0.92      0.97      0.94       386\n",
      "           5       0.97      0.92      0.94       406\n",
      "           6       0.87      0.81      0.84       527\n",
      "\n",
      "    accuracy                           0.91      2723\n",
      "   macro avg       0.93      0.91      0.92      2723\n",
      "weighted avg       0.91      0.91      0.91      2723\n",
      "\n"
     ]
    }
   ],
   "source": [
    "print(classification_report(correct_labels, prediction_GBM))"
   ]
  },
  {
   "cell_type": "code",
   "execution_count": null,
   "id": "7a505f59-5bb7-4140-a1fb-7b95795121f2",
   "metadata": {},
   "outputs": [],
   "source": []
  },
  {
   "cell_type": "markdown",
   "id": "944fa6b3",
   "metadata": {},
   "source": [
    "## Sam changes"
   ]
  },
  {
   "cell_type": "code",
   "execution_count": 56,
   "id": "998578ce",
   "metadata": {},
   "outputs": [],
   "source": [
    "bean_data = pd.read_csv('Dry_Bean_Dataset.csv')\n",
    "\n",
    "X=bean_data.drop(columns=['Class'])\n",
    "\n",
    "min_max = MinMaxScaler(feature_range=(-1, 1))\n",
    "X_scaled = min_max.fit_transform(X)\n",
    "X_scaled = pd.DataFrame(X_scaled)\n",
    "X_scaled\n",
    "\n",
    "y = bean_data.Class\n",
    "# Encode labels if they are categorical\n",
    "label_encoder = LabelEncoder()\n",
    "y = label_encoder.fit_transform(y)\n",
    "\n",
    "X_train, X_test, y_train, y_test = train_test_split(X_scaled, y, test_size=0.2, random_state=42, stratify=y)"
   ]
  },
  {
   "cell_type": "code",
   "execution_count": 60,
   "id": "331dfc35",
   "metadata": {},
   "outputs": [],
   "source": [
    "from xgboost import XGBClassifier\n",
    "from sklearn.model_selection import RandomizedSearchCV\n",
    "from scipy.stats import uniform, randint\n",
    "\n",
    "from sklearn.svm import SVC\n",
    "\n",
    "#Add these above later\n",
    "# Libraries for metrics and evaluation\n",
    "import numpy as np\n",
    "from sklearn.metrics import (\n",
    "    accuracy_score, classification_report, confusion_matrix,\n",
    "    log_loss, roc_auc_score, roc_curve, precision_recall_curve,\n",
    "    cohen_kappa_score\n",
    ")\n",
    "from sklearn.preprocessing import label_binarize\n",
    "\n",
    "# Libraries for visualization\n",
    "import matplotlib.pyplot as plt\n",
    "import seaborn as sns\n",
    "import pandas as pd\n"
   ]
  },
  {
   "cell_type": "code",
   "execution_count": null,
   "id": "dc1e1e37",
   "metadata": {},
   "outputs": [
    {
     "name": "stdout",
     "output_type": "stream",
     "text": [
      "Accuracy: 0.93\n",
      "\n",
      "Classification Report:\n",
      "              precision    recall  f1-score   support\n",
      "\n",
      "    BARBUNYA       0.94      0.90      0.92       265\n",
      "      BOMBAY       1.00      1.00      1.00       104\n",
      "        CALI       0.94      0.94      0.94       326\n",
      "    DERMASON       0.90      0.93      0.92       709\n",
      "       HOROZ       0.96      0.96      0.96       386\n",
      "       SEKER       0.96      0.96      0.96       406\n",
      "        SIRA       0.88      0.87      0.87       527\n",
      "\n",
      "    accuracy                           0.93      2723\n",
      "   macro avg       0.94      0.94      0.94      2723\n",
      "weighted avg       0.93      0.93      0.93      2723\n",
      "\n"
     ]
    }
   ],
   "source": [
    "# Step 2: Create and train the XGBoost model\n",
    "model = XGBClassifier(\n",
    "    objective='multi:softmax',  # for multiclass classification\n",
    "    num_class=len(np.unique(y))  # number of classes\n",
    ")\n",
    "\n",
    "model.fit(X_train, y_train)\n",
    "\n",
    "# Step 3: Make predictions on the test set\n",
    "y_pred = model.predict(X_test)\n",
    "\n",
    "# Step 4: Evaluate the model\n",
    "accuracy = accuracy_score(y_test, y_pred)\n",
    "print(f\"Accuracy: {accuracy:.2f}\")\n",
    " \n",
    "# Print detailed classification report\n",
    "print(\"\\nClassification Report:\")\n",
    "print(classification_report(y_test, y_pred, target_names=label_encoder.classes_))"
   ]
  },
  {
   "cell_type": "code",
   "execution_count": 61,
   "id": "74460da9",
   "metadata": {},
   "outputs": [
    {
     "name": "stdout",
     "output_type": "stream",
     "text": [
      "Fitting 5 folds for each of 100 candidates, totalling 500 fits\n",
      "Accuracy: 0.92\n",
      "\n",
      "Classification Report:\n",
      "              precision    recall  f1-score   support\n",
      "\n",
      "    BARBUNYA       0.94      0.90      0.92       265\n",
      "      BOMBAY       1.00      1.00      1.00       104\n",
      "        CALI       0.94      0.94      0.94       326\n",
      "    DERMASON       0.91      0.92      0.91       709\n",
      "       HOROZ       0.97      0.96      0.96       386\n",
      "       SEKER       0.94      0.96      0.95       406\n",
      "        SIRA       0.86      0.87      0.86       527\n",
      "\n",
      "    accuracy                           0.92      2723\n",
      "   macro avg       0.94      0.93      0.94      2723\n",
      "weighted avg       0.92      0.92      0.92      2723\n",
      "\n",
      "\n",
      "Best parameters found:\n",
      "{'colsample_bytree': 0.8587393446674896, 'gamma': 0.1941341919949361, 'learning_rate': 0.0788184237114849, 'max_depth': 6, 'n_estimators': 831, 'subsample': 0.7441380380821073}\n"
     ]
    }
   ],
   "source": [
    "model = XGBClassifier(\n",
    "    objective='multi:softmax',  # for multiclass classification\n",
    "    num_class=len(np.unique(y))  # number of classes\n",
    ")\n",
    "\n",
    "# Define the hyperparameter space\n",
    "param_dist = {\n",
    "    'n_estimators': randint(100, 1000),\n",
    "    'max_depth': randint(3, 10),\n",
    "    'learning_rate': uniform(0.01, 0.3),\n",
    "    'subsample': uniform(0.6, 0.4),\n",
    "    'colsample_bytree': uniform(0.6, 0.4),\n",
    "    'gamma': uniform(0, 0.5)\n",
    "}\n",
    "\n",
    "# Create RandomizedSearchCV object\n",
    "random_search = RandomizedSearchCV(\n",
    "    model, \n",
    "    param_distributions=param_dist, \n",
    "    n_iter=100,  # number of parameter settings sampled\n",
    "    cv=5,  # number of cross-validation folds\n",
    "    scoring='accuracy',\n",
    "    n_jobs=-1,  # use all available cores\n",
    "    verbose=2,\n",
    "    random_state=42\n",
    ")\n",
    "\n",
    "# Fit the random search model\n",
    "random_search.fit(X_train, y_train)\n",
    "\n",
    "# Get the best model\n",
    "best_model = random_search.best_estimator_\n",
    "\n",
    "# Step 3: Make predictions on the test set\n",
    "y_pred = best_model.predict(X_test)\n",
    "\n",
    "# Step 4: Evaluate the model\n",
    "accuracy = accuracy_score(y_test, y_pred)\n",
    "print(f\"Accuracy: {accuracy:.2f}\")\n",
    "\n",
    "# Print detailed classification report\n",
    "print(\"\\nClassification Report:\")\n",
    "print(classification_report(y_test, y_pred, target_names=label_encoder.classes_))\n",
    "\n",
    "# Print best parameters\n",
    "print(\"\\nBest parameters found:\")\n",
    "print(random_search.best_params_)"
   ]
  },
  {
   "cell_type": "code",
   "execution_count": 26,
   "id": "1170931b",
   "metadata": {},
   "outputs": [
    {
     "name": "stdout",
     "output_type": "stream",
     "text": [
      "Accuracy: 0.92\n",
      "\n",
      "Classification Report:\n",
      "              precision    recall  f1-score   support\n",
      "\n",
      "    BARBUNYA       0.94      0.89      0.92       265\n",
      "      BOMBAY       1.00      1.00      1.00       104\n",
      "        CALI       0.94      0.94      0.94       326\n",
      "    DERMASON       0.90      0.92      0.91       709\n",
      "       HOROZ       0.97      0.95      0.96       386\n",
      "       SEKER       0.94      0.96      0.95       406\n",
      "        SIRA       0.86      0.86      0.86       527\n",
      "\n",
      "    accuracy                           0.92      2723\n",
      "   macro avg       0.94      0.93      0.93      2723\n",
      "weighted avg       0.92      0.92      0.92      2723\n",
      "\n"
     ]
    }
   ],
   "source": [
    "model = RandomForestClassifier(\n",
    "random_state=42)\n",
    "model.fit(X_train, y_train)\n",
    "y_pred = model.predict(X_test)\n",
    "accuracy = accuracy_score(y_test, y_pred)\n",
    "print(f\"Accuracy: {accuracy:.2f}\")\n",
    "print(\"\\nClassification Report:\")\n",
    "print(classification_report(y_test, y_pred, target_names=label_encoder.classes_))"
   ]
  },
  {
   "cell_type": "code",
   "execution_count": 62,
   "id": "6eb9bb4a",
   "metadata": {},
   "outputs": [
    {
     "name": "stdout",
     "output_type": "stream",
     "text": [
      "Fitting 5 folds for each of 100 candidates, totalling 500 fits\n"
     ]
    },
    {
     "name": "stderr",
     "output_type": "stream",
     "text": [
      "C:\\Users\\13138\\AppData\\Local\\Packages\\PythonSoftwareFoundation.Python.3.10_qbz5n2kfra8p0\\LocalCache\\local-packages\\Python310\\site-packages\\sklearn\\model_selection\\_validation.py:547: FitFailedWarning: \n",
      "205 fits failed out of a total of 500.\n",
      "The score on these train-test partitions for these parameters will be set to nan.\n",
      "If these failures are not expected, you can try to debug them by setting error_score='raise'.\n",
      "\n",
      "Below are more details about the failures:\n",
      "--------------------------------------------------------------------------------\n",
      "134 fits failed with the following error:\n",
      "Traceback (most recent call last):\n",
      "  File \"C:\\Users\\13138\\AppData\\Local\\Packages\\PythonSoftwareFoundation.Python.3.10_qbz5n2kfra8p0\\LocalCache\\local-packages\\Python310\\site-packages\\sklearn\\model_selection\\_validation.py\", line 895, in _fit_and_score\n",
      "    estimator.fit(X_train, y_train, **fit_params)\n",
      "  File \"C:\\Users\\13138\\AppData\\Local\\Packages\\PythonSoftwareFoundation.Python.3.10_qbz5n2kfra8p0\\LocalCache\\local-packages\\Python310\\site-packages\\sklearn\\base.py\", line 1467, in wrapper\n",
      "    estimator._validate_params()\n",
      "  File \"C:\\Users\\13138\\AppData\\Local\\Packages\\PythonSoftwareFoundation.Python.3.10_qbz5n2kfra8p0\\LocalCache\\local-packages\\Python310\\site-packages\\sklearn\\base.py\", line 666, in _validate_params\n",
      "    validate_parameter_constraints(\n",
      "  File \"C:\\Users\\13138\\AppData\\Local\\Packages\\PythonSoftwareFoundation.Python.3.10_qbz5n2kfra8p0\\LocalCache\\local-packages\\Python310\\site-packages\\sklearn\\utils\\_param_validation.py\", line 95, in validate_parameter_constraints\n",
      "    raise InvalidParameterError(\n",
      "sklearn.utils._param_validation.InvalidParameterError: The 'max_features' parameter of RandomForestClassifier must be an int in the range [1, inf), a float in the range (0.0, 1.0], a str among {'log2', 'sqrt'} or None. Got 'auto' instead.\n",
      "\n",
      "--------------------------------------------------------------------------------\n",
      "71 fits failed with the following error:\n",
      "Traceback (most recent call last):\n",
      "  File \"C:\\Users\\13138\\AppData\\Local\\Packages\\PythonSoftwareFoundation.Python.3.10_qbz5n2kfra8p0\\LocalCache\\local-packages\\Python310\\site-packages\\sklearn\\model_selection\\_validation.py\", line 895, in _fit_and_score\n",
      "    estimator.fit(X_train, y_train, **fit_params)\n",
      "  File \"C:\\Users\\13138\\AppData\\Local\\Packages\\PythonSoftwareFoundation.Python.3.10_qbz5n2kfra8p0\\LocalCache\\local-packages\\Python310\\site-packages\\sklearn\\base.py\", line 1467, in wrapper\n",
      "    estimator._validate_params()\n",
      "  File \"C:\\Users\\13138\\AppData\\Local\\Packages\\PythonSoftwareFoundation.Python.3.10_qbz5n2kfra8p0\\LocalCache\\local-packages\\Python310\\site-packages\\sklearn\\base.py\", line 666, in _validate_params\n",
      "    validate_parameter_constraints(\n",
      "  File \"C:\\Users\\13138\\AppData\\Local\\Packages\\PythonSoftwareFoundation.Python.3.10_qbz5n2kfra8p0\\LocalCache\\local-packages\\Python310\\site-packages\\sklearn\\utils\\_param_validation.py\", line 95, in validate_parameter_constraints\n",
      "    raise InvalidParameterError(\n",
      "sklearn.utils._param_validation.InvalidParameterError: The 'max_features' parameter of RandomForestClassifier must be an int in the range [1, inf), a float in the range (0.0, 1.0], a str among {'sqrt', 'log2'} or None. Got 'auto' instead.\n",
      "\n",
      "  warnings.warn(some_fits_failed_message, FitFailedWarning)\n",
      "C:\\Users\\13138\\AppData\\Local\\Packages\\PythonSoftwareFoundation.Python.3.10_qbz5n2kfra8p0\\LocalCache\\local-packages\\Python310\\site-packages\\sklearn\\model_selection\\_search.py:1051: UserWarning: One or more of the test scores are non-finite: [0.92220809 0.92165687 0.88767552 0.91697338        nan        nan\n",
      " 0.92138177 0.92331023 0.92184082 0.89603345 0.91697351 0.92018738\n",
      " 0.92257544        nan        nan 0.78692234        nan        nan\n",
      " 0.90834047        nan 0.92156538        nan        nan 0.88078712\n",
      " 0.92239158 0.92193261        nan 0.92239175 0.92331023 0.92404498\n",
      " 0.91982037 0.92588173        nan 0.92266731 0.92432054 0.88041901\n",
      "        nan 0.89860504        nan        nan 0.92248366        nan\n",
      "        nan 0.88795117 0.92248345 0.9217487  0.92395302        nan\n",
      " 0.92441229 0.9235858  0.92358567 0.92303462        nan        nan\n",
      "        nan        nan 0.88730829 0.92211626 0.8811546         nan\n",
      " 0.88749195        nan 0.92505533 0.88381763 0.92395323        nan\n",
      " 0.92450432 0.9223917  0.90824865        nan        nan 0.92037146\n",
      " 0.88868558        nan 0.92184066 0.78683039 0.90834043        nan\n",
      "        nan        nan        nan 0.88905318 0.92248349 0.89796208\n",
      "        nan        nan 0.92496321        nan 0.92340223        nan\n",
      "        nan 0.92101417        nan        nan 0.92248353 0.92468777\n",
      "        nan 0.92138148        nan        nan]\n",
      "  warnings.warn(\n"
     ]
    },
    {
     "name": "stdout",
     "output_type": "stream",
     "text": [
      "Accuracy: 0.92\n",
      "\n",
      "Classification Report:\n",
      "              precision    recall  f1-score   support\n",
      "\n",
      "    BARBUNYA       0.94      0.89      0.91       265\n",
      "      BOMBAY       1.00      1.00      1.00       104\n",
      "        CALI       0.94      0.94      0.94       326\n",
      "    DERMASON       0.90      0.92      0.91       709\n",
      "       HOROZ       0.96      0.96      0.96       386\n",
      "       SEKER       0.94      0.96      0.95       406\n",
      "        SIRA       0.86      0.85      0.86       527\n",
      "\n",
      "    accuracy                           0.92      2723\n",
      "   macro avg       0.93      0.93      0.93      2723\n",
      "weighted avg       0.92      0.92      0.92      2723\n",
      "\n",
      "\n",
      "Best Parameters:\n",
      "{'bootstrap': True, 'max_depth': 19, 'max_features': 'log2', 'min_samples_leaf': 1, 'min_samples_split': 3, 'n_estimators': 741}\n"
     ]
    }
   ],
   "source": [
    "# Define the parameter distribution for random search\n",
    "param_dist = {\n",
    "    'n_estimators': randint(100, 1000),\n",
    "    'max_depth': randint(3, 20),\n",
    "    'min_samples_split': randint(2, 11),\n",
    "    'min_samples_leaf': randint(1, 11),\n",
    "    'max_features': ['auto', 'sqrt', 'log2'],\n",
    "    'bootstrap': [True, False]\n",
    "}\n",
    "\n",
    "# Create the base model\n",
    "model = RandomForestClassifier(random_state=42)\n",
    "\n",
    "# Create the RandomizedSearchCV object\n",
    "random_search = RandomizedSearchCV(\n",
    "    estimator=model,\n",
    "    param_distributions=param_dist,\n",
    "    n_iter=100,\n",
    "    cv=5,\n",
    "    scoring='accuracy',\n",
    "    n_jobs=-1,\n",
    "    random_state=42,\n",
    "    verbose=2\n",
    ")\n",
    "\n",
    "# Fit the random search model\n",
    "random_search.fit(X_train, y_train)\n",
    "\n",
    "# Get the best model\n",
    "best_model = random_search.best_estimator_\n",
    "\n",
    "# Make predictions on the test set\n",
    "y_pred = best_model.predict(X_test)\n",
    "\n",
    "# Calculate accuracy\n",
    "accuracy = accuracy_score(y_test, y_pred)\n",
    "print(f\"Accuracy: {accuracy:.2f}\")\n",
    "\n",
    "# Print classification report\n",
    "print(\"\\nClassification Report:\")\n",
    "print(classification_report(y_test, y_pred, target_names=label_encoder.classes_))\n",
    "\n",
    "# Print best parameters\n",
    "print(\"\\nBest Parameters:\")\n",
    "print(random_search.best_params_)"
   ]
  },
  {
   "cell_type": "code",
   "execution_count": null,
   "id": "14d66dc0",
   "metadata": {},
   "outputs": [
    {
     "name": "stdout",
     "output_type": "stream",
     "text": [
      "Accuracy: 0.92\n",
      "\n",
      "Classification Report:\n",
      "              precision    recall  f1-score   support\n",
      "\n",
      "    BARBUNYA       0.96      0.86      0.91       265\n",
      "      BOMBAY       1.00      1.00      1.00       104\n",
      "        CALI       0.92      0.94      0.93       326\n",
      "    DERMASON       0.92      0.91      0.92       709\n",
      "       HOROZ       0.97      0.95      0.96       386\n",
      "       SEKER       0.94      0.95      0.94       406\n",
      "        SIRA       0.85      0.89      0.87       527\n",
      "\n",
      "    accuracy                           0.92      2723\n",
      "   macro avg       0.94      0.93      0.93      2723\n",
      "weighted avg       0.92      0.92      0.92      2723\n",
      "\n"
     ]
    }
   ],
   "source": [
    "model = SVC(\n",
    "kernel='rbf',\n",
    "C=1.0,\n",
    "gamma='scale',\n",
    "probability=True,\n",
    "random_state=42)\n",
    "model.fit(X_train, y_train)\n",
    "y_pred = model.predict(X_test)\n",
    "accuracy = accuracy_score(y_test, y_pred)\n",
    "print(f\"Accuracy: {accuracy:.2f}\")\n",
    "print(\"\\nClassification Report:\")\n",
    "print(classification_report(y_test, y_pred, target_names=label_encoder.classes_))"
   ]
  },
  {
   "cell_type": "code",
   "execution_count": 63,
   "id": "ea46d877",
   "metadata": {},
   "outputs": [
    {
     "name": "stdout",
     "output_type": "stream",
     "text": [
      "Fitting 5 folds for each of 100 candidates, totalling 500 fits\n",
      "Accuracy: 0.92\n",
      "\n",
      "Classification Report:\n",
      "              precision    recall  f1-score   support\n",
      "\n",
      "    BARBUNYA       0.92      0.92      0.92       265\n",
      "      BOMBAY       1.00      1.00      1.00       104\n",
      "        CALI       0.94      0.93      0.94       326\n",
      "    DERMASON       0.91      0.93      0.92       709\n",
      "       HOROZ       0.97      0.95      0.96       386\n",
      "       SEKER       0.95      0.96      0.95       406\n",
      "        SIRA       0.88      0.87      0.87       527\n",
      "\n",
      "    accuracy                           0.92      2723\n",
      "   macro avg       0.94      0.94      0.94      2723\n",
      "weighted avg       0.92      0.92      0.92      2723\n",
      "\n",
      "\n",
      "Best Parameters:\n",
      "{'C': 4.660699842170359, 'gamma': 0.9482609359088487, 'kernel': 'poly'}\n"
     ]
    }
   ],
   "source": [
    "# Define the parameter distribution for random search\n",
    "param_dist = {\n",
    "    'C': uniform(0.1, 10),\n",
    "    'gamma': ['scale', 'auto'] + list(uniform(0.001, 1).rvs(20)),\n",
    "    'kernel': ['rbf', 'poly', 'sigmoid']\n",
    "}\n",
    "\n",
    "# Create the base model\n",
    "model = SVC(probability=True, random_state=42)\n",
    "\n",
    "# Create the RandomizedSearchCV object\n",
    "random_search = RandomizedSearchCV(\n",
    "    estimator=model,\n",
    "    param_distributions=param_dist,\n",
    "    n_iter=100,\n",
    "    cv=5,\n",
    "    scoring='accuracy',\n",
    "    n_jobs=-1,\n",
    "    random_state=42,\n",
    "    verbose=2\n",
    ")\n",
    "\n",
    "# Fit the random search model\n",
    "random_search.fit(X_train, y_train)\n",
    "\n",
    "# Get the best model\n",
    "best_model = random_search.best_estimator_\n",
    "\n",
    "# Make predictions on the test set\n",
    "y_pred = best_model.predict(X_test)\n",
    "\n",
    "# Calculate accuracy\n",
    "accuracy = accuracy_score(y_test, y_pred)\n",
    "print(f\"Accuracy: {accuracy:.2f}\")\n",
    "\n",
    "# Print classification report\n",
    "print(\"\\nClassification Report:\")\n",
    "print(classification_report(y_test, y_pred, target_names=label_encoder.classes_))\n",
    "\n",
    "# Print best parameters\n",
    "print(\"\\nBest Parameters:\")\n",
    "print(random_search.best_params_)\n",
    "\n"
   ]
  }
 ],
 "metadata": {
  "kernelspec": {
   "display_name": "Python 3",
   "language": "python",
   "name": "python3"
  },
  "language_info": {
   "codemirror_mode": {
    "name": "ipython",
    "version": 3
   },
   "file_extension": ".py",
   "mimetype": "text/x-python",
   "name": "python",
   "nbconvert_exporter": "python",
   "pygments_lexer": "ipython3",
   "version": "3.10.11"
  }
 },
 "nbformat": 4,
 "nbformat_minor": 5
}
